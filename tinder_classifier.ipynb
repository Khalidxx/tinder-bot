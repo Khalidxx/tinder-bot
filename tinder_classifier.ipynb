{
  "nbformat": 4,
  "nbformat_minor": 0,
  "metadata": {
    "colab": {
      "name": "tinder-classifier.ipynb",
      "provenance": [],
      "collapsed_sections": []
    },
    "kernelspec": {
      "name": "python3",
      "display_name": "Python 3"
    }
  },
  "cells": [
    {
      "cell_type": "code",
      "metadata": {
        "id": "z4ildoKK_ivV",
        "colab_type": "code",
        "outputId": "9b8043bf-ad1f-4c29-b095-ea552e5c239c",
        "colab": {
          "base_uri": "https://localhost:8080/",
          "height": 122
        }
      },
      "source": [
        "from google.colab import drive\n",
        "drive.mount('/content/gdrive/')"
      ],
      "execution_count": 0,
      "outputs": [
        {
          "output_type": "stream",
          "text": [
            "Go to this URL in a browser: https://accounts.google.com/o/oauth2/auth?client_id=947318989803-6bn6qk8qdgf4n4g3pfee6491hc0brc4i.apps.googleusercontent.com&redirect_uri=urn%3aietf%3awg%3aoauth%3a2.0%3aoob&response_type=code&scope=email%20https%3a%2f%2fwww.googleapis.com%2fauth%2fdocs.test%20https%3a%2f%2fwww.googleapis.com%2fauth%2fdrive%20https%3a%2f%2fwww.googleapis.com%2fauth%2fdrive.photos.readonly%20https%3a%2f%2fwww.googleapis.com%2fauth%2fpeopleapi.readonly\n",
            "\n",
            "Enter your authorization code:\n",
            "··········\n",
            "Mounted at /content/gdrive/\n"
          ],
          "name": "stdout"
        }
      ]
    },
    {
      "cell_type": "code",
      "metadata": {
        "id": "oNe38A0T_7u8",
        "colab_type": "code",
        "outputId": "5a58aa34-cbd8-4967-cea4-029e085fad8e",
        "colab": {
          "base_uri": "https://localhost:8080/",
          "height": 34
        }
      },
      "source": [
        "import cv2\n",
        "import numpy as np\n",
        "import matplotlib.pyplot as plt\n",
        "import pandas as pd\n",
        "import time\n",
        "\n",
        "import tensorflow as tf\n",
        "import keras"
      ],
      "execution_count": 0,
      "outputs": [
        {
          "output_type": "stream",
          "text": [
            "Using TensorFlow backend.\n"
          ],
          "name": "stderr"
        }
      ]
    },
    {
      "cell_type": "code",
      "metadata": {
        "id": "zpEhj0_c1MqJ",
        "colab_type": "code",
        "colab": {}
      },
      "source": [
        "from keras.applications import VGG16\n",
        "from keras.applications.resnet50 import ResNet50\n",
        "from keras.applications.inception_v3 import InceptionV3\n",
        "from keras import models\n",
        "from keras import layers\n",
        "from keras import optimizers\n",
        "from keras.preprocessing.image import ImageDataGenerator, load_img\n",
        "\n",
        "from sklearn import metrics\n",
        "from sklearn.model_selection import KFold"
      ],
      "execution_count": 0,
      "outputs": []
    },
    {
      "cell_type": "code",
      "metadata": {
        "id": "z1wYe54s1rLH",
        "colab_type": "code",
        "colab": {}
      },
      "source": [
        "train_dir = '/content/gdrive/My Drive/tinder-bot/Images'\n",
        "\n",
        "image_size = 200\n"
      ],
      "execution_count": 0,
      "outputs": []
    },
    {
      "cell_type": "code",
      "metadata": {
        "id": "XQUzFN_J1vGO",
        "colab_type": "code",
        "outputId": "ca46e49a-757a-442e-d0bb-cab2303efd65",
        "colab": {
          "base_uri": "https://localhost:8080/",
          "height": 204
        }
      },
      "source": [
        "train_indexer = pd.read_csv('/content/gdrive/My Drive/tinder-bot/All_Ratings.csv')\n",
        "train_indexer.head()"
      ],
      "execution_count": 0,
      "outputs": [
        {
          "output_type": "execute_result",
          "data": {
            "text/html": [
              "<div>\n",
              "<style scoped>\n",
              "    .dataframe tbody tr th:only-of-type {\n",
              "        vertical-align: middle;\n",
              "    }\n",
              "\n",
              "    .dataframe tbody tr th {\n",
              "        vertical-align: top;\n",
              "    }\n",
              "\n",
              "    .dataframe thead th {\n",
              "        text-align: right;\n",
              "    }\n",
              "</style>\n",
              "<table border=\"1\" class=\"dataframe\">\n",
              "  <thead>\n",
              "    <tr style=\"text-align: right;\">\n",
              "      <th></th>\n",
              "      <th>rater</th>\n",
              "      <th>filename</th>\n",
              "      <th>rating</th>\n",
              "    </tr>\n",
              "  </thead>\n",
              "  <tbody>\n",
              "    <tr>\n",
              "      <th>0</th>\n",
              "      <td>1</td>\n",
              "      <td>ftw1.jpg</td>\n",
              "      <td>3</td>\n",
              "    </tr>\n",
              "    <tr>\n",
              "      <th>1</th>\n",
              "      <td>2</td>\n",
              "      <td>ftw1.jpg</td>\n",
              "      <td>4</td>\n",
              "    </tr>\n",
              "    <tr>\n",
              "      <th>2</th>\n",
              "      <td>3</td>\n",
              "      <td>ftw1.jpg</td>\n",
              "      <td>4</td>\n",
              "    </tr>\n",
              "    <tr>\n",
              "      <th>3</th>\n",
              "      <td>4</td>\n",
              "      <td>ftw1.jpg</td>\n",
              "      <td>5</td>\n",
              "    </tr>\n",
              "    <tr>\n",
              "      <th>4</th>\n",
              "      <td>5</td>\n",
              "      <td>ftw1.jpg</td>\n",
              "      <td>4</td>\n",
              "    </tr>\n",
              "  </tbody>\n",
              "</table>\n",
              "</div>"
            ],
            "text/plain": [
              "   rater  filename  rating\n",
              "0      1  ftw1.jpg       3\n",
              "1      2  ftw1.jpg       4\n",
              "2      3  ftw1.jpg       4\n",
              "3      4  ftw1.jpg       5\n",
              "4      5  ftw1.jpg       4"
            ]
          },
          "metadata": {
            "tags": []
          },
          "execution_count": 39
        }
      ]
    },
    {
      "cell_type": "code",
      "metadata": {
        "id": "962WEZVq0L6a",
        "colab_type": "code",
        "outputId": "57c641db-ecb9-4711-951c-8109af77bd50",
        "colab": {
          "base_uri": "https://localhost:8080/",
          "height": 34
        }
      },
      "source": [
        "current = train_indexer.iloc[0, 1]\n",
        "previous = current\n",
        "print(current)"
      ],
      "execution_count": 0,
      "outputs": [
        {
          "output_type": "stream",
          "text": [
            "ftw1.jpg\n"
          ],
          "name": "stdout"
        }
      ]
    },
    {
      "cell_type": "code",
      "metadata": {
        "id": "aRnfkAwNaylx",
        "colab_type": "code",
        "colab": {}
      },
      "source": [
        "ratings = pd.DataFrame(columns=['filename', 'rating'])\n",
        "rating_sum = 0\n",
        "\n",
        "for i, row in train_indexer.iterrows():\n",
        "  current = row[1]\n",
        "  if current == previous:\n",
        "    rating_sum += float(row[2])\n",
        "  else:\n",
        "    rating = str(rating_sum / 60)\n",
        "    ratings = ratings.append({'filename': previous, 'rating': rating}, ignore_index=True)\n",
        "    rating_sum = 0\n",
        "  previous = current"
      ],
      "execution_count": 0,
      "outputs": []
    },
    {
      "cell_type": "code",
      "metadata": {
        "id": "FNYXqjtc2s6v",
        "colab_type": "code",
        "outputId": "5eaf9974-d642-495b-ea90-f74407494d48",
        "colab": {
          "base_uri": "https://localhost:8080/",
          "height": 359
        }
      },
      "source": [
        "ratings.head(10)"
      ],
      "execution_count": 0,
      "outputs": [
        {
          "output_type": "execute_result",
          "data": {
            "text/html": [
              "<div>\n",
              "<style scoped>\n",
              "    .dataframe tbody tr th:only-of-type {\n",
              "        vertical-align: middle;\n",
              "    }\n",
              "\n",
              "    .dataframe tbody tr th {\n",
              "        vertical-align: top;\n",
              "    }\n",
              "\n",
              "    .dataframe thead th {\n",
              "        text-align: right;\n",
              "    }\n",
              "</style>\n",
              "<table border=\"1\" class=\"dataframe\">\n",
              "  <thead>\n",
              "    <tr style=\"text-align: right;\">\n",
              "      <th></th>\n",
              "      <th>filename</th>\n",
              "      <th>rating</th>\n",
              "    </tr>\n",
              "  </thead>\n",
              "  <tbody>\n",
              "    <tr>\n",
              "      <th>0</th>\n",
              "      <td>ftw1.jpg</td>\n",
              "      <td>4.116666666666666</td>\n",
              "    </tr>\n",
              "    <tr>\n",
              "      <th>1</th>\n",
              "      <td>ftw10.jpg</td>\n",
              "      <td>3.5</td>\n",
              "    </tr>\n",
              "    <tr>\n",
              "      <th>2</th>\n",
              "      <td>ftw100.jpg</td>\n",
              "      <td>2.1166666666666667</td>\n",
              "    </tr>\n",
              "    <tr>\n",
              "      <th>3</th>\n",
              "      <td>ftw101.jpg</td>\n",
              "      <td>2.45</td>\n",
              "    </tr>\n",
              "    <tr>\n",
              "      <th>4</th>\n",
              "      <td>ftw102.jpg</td>\n",
              "      <td>3.25</td>\n",
              "    </tr>\n",
              "    <tr>\n",
              "      <th>5</th>\n",
              "      <td>ftw103.jpg</td>\n",
              "      <td>2.566666666666667</td>\n",
              "    </tr>\n",
              "    <tr>\n",
              "      <th>6</th>\n",
              "      <td>ftw104.jpg</td>\n",
              "      <td>2.5</td>\n",
              "    </tr>\n",
              "    <tr>\n",
              "      <th>7</th>\n",
              "      <td>ftw105.jpg</td>\n",
              "      <td>2.716666666666667</td>\n",
              "    </tr>\n",
              "    <tr>\n",
              "      <th>8</th>\n",
              "      <td>ftw106.jpg</td>\n",
              "      <td>2.85</td>\n",
              "    </tr>\n",
              "    <tr>\n",
              "      <th>9</th>\n",
              "      <td>ftw107.jpg</td>\n",
              "      <td>3.7666666666666666</td>\n",
              "    </tr>\n",
              "  </tbody>\n",
              "</table>\n",
              "</div>"
            ],
            "text/plain": [
              "     filename              rating\n",
              "0    ftw1.jpg   4.116666666666666\n",
              "1   ftw10.jpg                 3.5\n",
              "2  ftw100.jpg  2.1166666666666667\n",
              "3  ftw101.jpg                2.45\n",
              "4  ftw102.jpg                3.25\n",
              "5  ftw103.jpg   2.566666666666667\n",
              "6  ftw104.jpg                 2.5\n",
              "7  ftw105.jpg   2.716666666666667\n",
              "8  ftw106.jpg                2.85\n",
              "9  ftw107.jpg  3.7666666666666666"
            ]
          },
          "metadata": {
            "tags": []
          },
          "execution_count": 42
        }
      ]
    },
    {
      "cell_type": "code",
      "metadata": {
        "id": "tUVV9zKAis6c",
        "colab_type": "code",
        "colab": {}
      },
      "source": [
        "ratings.to_csv('/content/gdrive/My Drive/tinder-bot/avg_ratings.csv')"
      ],
      "execution_count": 0,
      "outputs": []
    },
    {
      "cell_type": "code",
      "metadata": {
        "id": "gdgPKdT-q7kL",
        "colab_type": "code",
        "colab": {}
      },
      "source": [
        "def extract_face(image, face_x,\tface_y,\tface_width,\tface_height):\n",
        "  return image[face_y:face_y+face_height, face_x:face_x+face_width]"
      ],
      "execution_count": 0,
      "outputs": []
    },
    {
      "cell_type": "code",
      "metadata": {
        "id": "zDY8ulLg8Wp_",
        "colab_type": "code",
        "colab": {}
      },
      "source": [
        "def train_vgg_model(training_set, validation_set):\n",
        "\n",
        "  train_datagen = ImageDataGenerator(\n",
        "        rescale=1./255,\n",
        "        shear_range=0.2,\n",
        "        zoom_range=0.2,\n",
        "        horizontal_flip=True)\n",
        "\n",
        "  train_generator = train_datagen.flow_from_dataframe(\n",
        "        dataframe=training_set,\n",
        "        directory=train_dir,\n",
        "        x_col=\"filename\",\n",
        "        y_col=\"rating\",\n",
        "        target_size=(image_size, image_size),\n",
        "        batch_size=100,\n",
        "        class_mode=\"sparse\")\n",
        "\n",
        "  validation_datagen = ImageDataGenerator(rescale=1./255)\n",
        "\n",
        "  validation_generator = validation_datagen.flow_from_dataframe(\n",
        "        dataframe=validation_set,\n",
        "        directory=train_dir,\n",
        "        x_col=\"filename\",\n",
        "        y_col=\"rating\",\n",
        "        target_size=(image_size, image_size),\n",
        "        batch_size=30,\n",
        "        class_mode=\"sparse\")\n",
        "\n",
        "  #Load the VGG model\n",
        "  vgg_conv = VGG16(weights='imagenet',\n",
        "                  include_top=False,\n",
        "                  input_shape=(image_size, image_size, 3))\n",
        "\n",
        "  # Freeze all layers except the last 6 layers\n",
        "  for layer in vgg_conv.layers[:-6]:\n",
        "    layer.trainable = False\n",
        "\n",
        "  # Create the model\n",
        "  vgg_model = models.Sequential()\n",
        "\n",
        "  # Add the vgg convolutional base model\n",
        "  vgg_model.add(vgg_conv)\n",
        "\n",
        "  # Add new layers\n",
        "  vgg_model.add(layers.Flatten())\n",
        "  vgg_model.add(layers.Dense(1024, activation='relu'))\n",
        "  vgg_model.add(layers.Dropout(0.5))\n",
        "  vgg_model.add(layers.Dense(1))\n",
        "\n",
        "  # Show a summary of the model\n",
        "  vgg_model.summary()\n",
        "\n",
        "  # Compile the model\n",
        "  vgg_model.compile(loss='mae', optimizer='adam')\n",
        "  \n",
        "  # Train the Model\n",
        "  vgg_history = vgg_model.fit_generator(\n",
        "      train_generator,\n",
        "      steps_per_epoch=train_generator.samples/train_generator.batch_size ,\n",
        "      epochs=10,\n",
        "      validation_data=validation_generator,\n",
        "      validation_steps=validation_generator.samples/validation_generator.batch_size,\n",
        "      verbose=1)\n",
        "  \n",
        "  return vgg_model, vgg_history"
      ],
      "execution_count": 0,
      "outputs": []
    },
    {
      "cell_type": "code",
      "metadata": {
        "id": "x7Jf0L87APyj",
        "colab_type": "code",
        "colab": {}
      },
      "source": [
        "vgg_model, vgg_history = train_vgg_model(test_data_train, test_data_valid)"
      ],
      "execution_count": 0,
      "outputs": []
    },
    {
      "cell_type": "code",
      "metadata": {
        "id": "HRrVLtsBJFo5",
        "colab_type": "code",
        "colab": {}
      },
      "source": [
        "# Create K-fold divider\n",
        "kf = KFold(3, shuffle=True, random_state=42)\n"
      ],
      "execution_count": 0,
      "outputs": []
    },
    {
      "cell_type": "code",
      "metadata": {
        "id": "2Kn6DkPyPNeK",
        "colab_type": "code",
        "outputId": "cabb270d-943d-4dde-cf2d-ca087d19b58c",
        "colab": {
          "base_uri": "https://localhost:8080/",
          "height": 510
        }
      },
      "source": [
        "# Divide and train each fold\n",
        "fold = 0\n",
        "model = []\n",
        "history = []\n",
        "for train, test in kf.split(ratings, ratings['rating']):\n",
        "  fold += 1\n",
        "  print(f\"Fold: #{fold}\")\n",
        "\n",
        "  train_set = ratings.iloc[train]\n",
        "  test_set = ratings.iloc[test]\n",
        "\n",
        "  vgg_model, vgg_history = train_vgg_model(train_set, test_set)\n",
        "\n",
        "  models.append(vgg_model)\n",
        "  history.append(vgg_history)\n"
      ],
      "execution_count": 0,
      "outputs": [
        {
          "output_type": "stream",
          "text": [
            "Fold: #1\n",
            "Found 3666 validated image filenames belonging to 197 classes.\n",
            "Found 1833 validated image filenames belonging to 191 classes.\n",
            "Model: \"sequential_4\"\n",
            "_________________________________________________________________\n",
            "Layer (type)                 Output Shape              Param #   \n",
            "=================================================================\n",
            "vgg16 (Model)                (None, 6, 6, 512)         14714688  \n",
            "_________________________________________________________________\n",
            "flatten_4 (Flatten)          (None, 18432)             0         \n",
            "_________________________________________________________________\n",
            "dense_7 (Dense)              (None, 1024)              18875392  \n",
            "_________________________________________________________________\n",
            "dropout_4 (Dropout)          (None, 1024)              0         \n",
            "_________________________________________________________________\n",
            "dense_8 (Dense)              (None, 1)                 1025      \n",
            "=================================================================\n",
            "Total params: 33,591,105\n",
            "Trainable params: 28,315,649\n",
            "Non-trainable params: 5,275,456\n",
            "_________________________________________________________________\n",
            "Epoch 1/10\n",
            "37/36 [==============================] - 2892s 78s/step - loss: 55.2422 - val_loss: 51.9392\n",
            "Epoch 2/10\n",
            "37/36 [==============================] - 2873s 78s/step - loss: 29.3141 - val_loss: 21.0163\n",
            "Epoch 3/10\n",
            "37/36 [==============================] - 2885s 78s/step - loss: 24.9424 - val_loss: 14.5080\n",
            "Epoch 4/10\n",
            "34/36 [==========================>...] - ETA: 2:34 - loss: 21.0754"
          ],
          "name": "stdout"
        }
      ]
    },
    {
      "cell_type": "code",
      "metadata": {
        "id": "z3x3N8_FSCto",
        "colab_type": "code",
        "colab": {}
      },
      "source": [
        "# Use sklearn metrics to evaluate all folds"
      ],
      "execution_count": 0,
      "outputs": []
    }
  ]
}